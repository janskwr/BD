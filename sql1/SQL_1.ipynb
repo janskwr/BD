{
    "metadata": {
        "kernelspec": {
            "name": "SQL",
            "display_name": "SQL",
            "language": "sql"
        },
        "language_info": {
            "name": "sql",
            "version": ""
        }
    },
    "nbformat_minor": 2,
    "nbformat": 4,
    "cells": [
        {
            "cell_type": "markdown",
            "source": [
                "# SQL Select"
            ],
            "metadata": {
                "azdata_cell_guid": "9f6d74ca-92ef-4280-9bd1-c5b53f891a53"
            },
            "attachments": {}
        },
        {
            "cell_type": "markdown",
            "source": [
                "**Wymagania**\n",
                "\n",
                "- założona baza Northwind (skrypt dostępny na kanale lub na [GitHub](https://github.com/microsoft/sql-server-samples/tree/master/samples/databases/northwind-pubs))"
            ],
            "metadata": {
                "azdata_cell_guid": "85034ebb-c960-4aa2-ac3c-9795e7f3e518"
            },
            "attachments": {}
        },
        {
            "cell_type": "code",
            "source": [
                "USE Northwind;\r\n",
                "GO"
            ],
            "metadata": {
                "azdata_cell_guid": "32b1f4ff-75ee-4205-95f4-5c42726b6722"
            },
            "outputs": [],
            "execution_count": null
        },
        {
            "cell_type": "markdown",
            "source": [
                "## Zadanie 1\n",
                "\n",
                "_Wyświetlenie danych wszystkich zamówień_\n",
                "\n",
                "\n",
                "Nowe słowa kluczowe:\n",
                "\n",
                "- __FROM__ [db].[schema].table_name - tabela z której pobieramy dane\n",
                "- __SELECT__ - lista kolumn w wyniku, __*__ (wildcard) - zwraca wszystkie kolumny występujące w zapytaniu"
            ],
            "metadata": {
                "azdata_cell_guid": "a7a9f3d2-16c4-4530-b0d8-fedb3bd41593"
            },
            "attachments": {}
        },
        {
            "cell_type": "code",
            "source": [
                "SELECT * \r\n",
                "FROM Orders;"
            ],
            "metadata": {
                "azdata_cell_guid": "2b03f347-7541-43fb-b9be-4510c22fd2e9"
            },
            "outputs": [],
            "execution_count": null
        },
        {
            "cell_type": "markdown",
            "source": [
                "## Zadanie 2\n",
                "\n",
                "_Wyświetlenie danych wszystkich zamówień dostarczonych do Meksyku (Mexico), Niemiec (Germany) lub Brazylii (Brazil)_\n",
                "\n",
                "\n",
                "Nowe słowa kluczowe:\n",
                "\n",
                "- __WHERE__ - umożliwia filtrowanie rekordów\n",
                "- __OR__ / __AND__ - operatory logiczne\n",
                "- __IN__ - sprawdzanie przynależności wartości w kolumnie do kolekcji.\n",
                "\n",
                "IN nie powinno być stosowane gdy podana kolekcja jest duża (np, kolekcja nie powinna być wynikiem podzapytania). W takim przypadku lepiej wykorzystać JOIN"
            ],
            "metadata": {
                "azdata_cell_guid": "75097299-df42-4e06-ab11-b65de2ac74f1"
            },
            "attachments": {}
        },
        {
            "cell_type": "code",
            "source": [
                "SELECT * \r\n",
                "FROM Orders \r\n",
                "WHERE ShipCountry = 'Brazil' OR ShipCountry = 'Mexico' OR ShipCountry = 'Germany'"
            ],
            "metadata": {
                "azdata_cell_guid": "00411edd-6523-4e2c-888d-9253f32f23b6"
            },
            "outputs": [],
            "execution_count": null
        },
        {
            "cell_type": "code",
            "source": [
                "SELECT * \r\n",
                "FROM Orders \r\n",
                "WHERE ShipCountry IN ('Brazil','Mexico','Germany')"
            ],
            "metadata": {
                "azdata_cell_guid": "bcc505f5-39f2-40d4-8ae4-32b386fae241"
            },
            "outputs": [],
            "execution_count": null
        },
        {
            "cell_type": "markdown",
            "source": [
                "## Zadanie 3\r\n",
                "\r\n",
                "_Wyświetlenie nazw miast w Niemczech, do których dostarczono \r\n",
                "produkty_\r\n",
                "\r\n",
                "\r\n",
                "Nowe słowa kluczowe:\r\n",
                "\r\n",
                "- __DISTINCT__ - umożliwia usunięcie duplikatów __rekordów__ z wyniku"
            ],
            "metadata": {
                "azdata_cell_guid": "6e50c9e4-70a2-41b1-9686-9991c76f4b93"
            },
            "attachments": {}
        },
        {
            "cell_type": "code",
            "source": [
                "SELECT DISTINCT ShipCity \r\n",
                "FROM Orders\r\n",
                "WHERE ShipCountry = 'Germany'"
            ],
            "metadata": {
                "azdata_cell_guid": "848f5168-00b3-4b49-9e25-124df176e7f4"
            },
            "outputs": [],
            "execution_count": null
        },
        {
            "cell_type": "markdown",
            "source": [
                "## Zadanie 4\r\n",
                "\r\n",
                "_Wyświetlenie danych zamówień złożonych w lipcu 1996_\r\n",
                "\r\n",
                "\r\n",
                "Filtrowanie dat możemy zrealizować na dwa sposoby:\r\n",
                "\r\n",
                "1. przy pomocy porównania daty z ograniczeniem dolnym oraz górnym\r\n",
                "2. przez zastosowanie funkcji zwracających część daty (np. miesiąc, rok)\r\n",
                "\r\n",
                "Rozwiązanie nr. 1 jest lepsze ponieważ umożliwia wykorzystanie indeksów co umożliwia ograczenie liczby odczytanych rekordów. W drugim przypadku funkcje muszą być obliczone dla każdego rekordu.\r\n",
                "\r\n",
                "O formatach dat:\r\n",
                "\r\n",
                "https://docs.microsoft.com/en-us/sql/t-sql/data-types/date-transact-sql?view=sql-server-ver15"
            ],
            "metadata": {
                "azdata_cell_guid": "760ec874-33e5-4e13-a058-5ddaaf179455"
            },
            "attachments": {}
        },
        {
            "cell_type": "code",
            "source": [
                "SELECT * \r\n",
                "FROM Orders \r\n",
                "WHERE OrderDate >= '1996-07-01' AND OrderDate < '1996-08-01'"
            ],
            "metadata": {
                "azdata_cell_guid": "6a500a77-9a64-405f-bea9-798772a0d89c"
            },
            "outputs": [],
            "execution_count": null
        },
        {
            "cell_type": "code",
            "source": [
                "SELECT * \r\n",
                "FROM Orders \r\n",
                "WHERE MONTH(OrderDate) = 7 AND YEAR(OrderDate) = 1996"
            ],
            "metadata": {
                "azdata_cell_guid": "da63fb9a-0f75-4084-8860-015a5b19953c"
            },
            "outputs": [],
            "execution_count": null
        },
        {
            "cell_type": "markdown",
            "source": [
                "## Zadanie 5\r\n",
                "\r\n",
                "_Wyświetlenie pierwszych 10 znaków nazw firm, po konwersji \r\n",
                "do dużych znaków_\r\n",
                "\r\n",
                "\r\n",
                "Nowe słowa kluczowe:\r\n",
                "\r\n",
                "- __AS__ - nadawanie aliasu dla kolumny / tabeli - podawanie AS jest opcjonalne\r\n",
                "\r\n",
                "O funkcjach dostępnych w ramach T-SQL\r\n",
                "\r\n",
                "https://docs.microsoft.com/en-us/sql/t-sql/functions/functions?view=sql-server-ver15"
            ],
            "metadata": {
                "azdata_cell_guid": "567459fd-23a9-43db-acf7-e2aabb925d04"
            },
            "attachments": {}
        },
        {
            "cell_type": "code",
            "source": [
                "SELECT UPPER(SUBSTRING(CompanyName, 1, 10)) AS 'Company code' \r\n",
                "FROM Customers"
            ],
            "metadata": {
                "azdata_cell_guid": "0cb52618-dbdb-45d7-a169-6750f82db7b3",
                "tags": []
            },
            "outputs": [],
            "execution_count": null
        },
        {
            "cell_type": "code",
            "source": [
                "SELECT UPPER(LEFT(CompanyName, 10)) 'Company code' \r\n",
                "FROM Customers"
            ],
            "metadata": {
                "azdata_cell_guid": "6337bb59-6826-4e01-a512-948e5b56b697"
            },
            "outputs": [],
            "execution_count": null
        },
        {
            "cell_type": "markdown",
            "source": [
                "## Zadanie 6\r\n",
                "\r\n",
                "_Wyświetlenie danych wszystkich zamówień złożonych przez \r\n",
                "klientów z Francji_\r\n",
                "\r\n",
                "\r\n",
                "Dzięki __JOIN__ możemy dołączać nowe kolumny z innej tabeli. Logicznie operację możemy interpretować jako\r\n",
                "iloczyn kartezjański zbiorów rekordów z tabeli przed i po JOIN. Następnie klauzula __ON__ określa warunek,\r\n",
                "według którego filtrowane są wynikowe rekordy. Najczęściej w tym miejscu wykorzystywane są kolumny występujące w relacjach, ale nic nie stoii na przeszkodzie, żeby był to dowolny warunek logiczny.\r\n",
                "\r\n",
                "Poniższe zapytania są równoważne.\r\n",
                "\r\n",
                "Gdy w zapytaniu mamy do czynienia z kilkoma tabelami dobrą praktyką jest odwoływanie się do poszczególnych kolumn z wykorzystaniem nazw tabel. Jeszcze częstszą praktyką jest nadawanie aliasów tabelom w celu skrócenia zapisu. \r\n",
                "\r\n",
                "Podanie wielu tabel w klazuli FROM jest toższame z CROSS JOIN.\r\n",
                "\r\n",
                "JOIN: https://docs.microsoft.com/en-us/sql/relational-databases/performance/joins?view=sql-server-ver15"
            ],
            "metadata": {
                "azdata_cell_guid": "b5695712-7bcc-450c-a8a8-de229edac2f9"
            },
            "attachments": {}
        },
        {
            "cell_type": "code",
            "source": [
                "SELECT Orders.* \r\n",
                "FROM Orders\r\n",
                "JOIN Customers ON Orders.CustomerID = Customers.CustomerID\r\n",
                "WHERE Customers.Country = 'France'"
            ],
            "metadata": {
                "azdata_cell_guid": "d1b04960-d211-4d14-8b72-de558ce31f68"
            },
            "outputs": [],
            "execution_count": null
        },
        {
            "cell_type": "code",
            "source": [
                "SELECT O.* \r\n",
                "FROM Orders O\r\n",
                "JOIN Customers C ON O.CustomerID = C.CustomerID\r\n",
                "WHERE C.Country = 'France'"
            ],
            "metadata": {
                "azdata_cell_guid": "995dd9a3-234d-49ff-8bc1-36716471f052"
            },
            "outputs": [],
            "execution_count": null
        },
        {
            "cell_type": "code",
            "source": [
                "SELECT O.* \r\n",
                "FROM Orders O\r\n",
                "JOIN Customers C ON 1 = 1\r\n",
                "WHERE O.CustomerID = C.CustomerID \r\n",
                "    AND C.Country = 'France'"
            ],
            "metadata": {
                "azdata_cell_guid": "b8791b5a-9aa3-4542-88d5-0d301814413b"
            },
            "outputs": [],
            "execution_count": null
        },
        {
            "cell_type": "code",
            "source": [
                "SELECT O.* \r\n",
                "FROM Orders O, Customers C\r\n",
                "WHERE O.CustomerID = C.CustomerID \r\n",
                "    AND C.Country = 'France'"
            ],
            "metadata": {
                "azdata_cell_guid": "e6482cd9-9bcc-4d34-b5e7-7a2003b1c7eb"
            },
            "outputs": [],
            "execution_count": null
        },
        {
            "cell_type": "markdown",
            "source": [
                "## Zadanie 7\r\n",
                "\r\n",
                "_Wyświetlenie wszystkich krajów dostawy dla zamówień \r\n",
                "złożonych przez klientów z Niemiec_"
            ],
            "metadata": {
                "azdata_cell_guid": "3aef9725-cd1b-4039-ab44-96877d476e7d"
            },
            "attachments": {}
        },
        {
            "cell_type": "code",
            "source": [
                "SELECT DISTINCT o.ShipCountry \r\n",
                "FROM Orders o \r\n",
                "JOIN Customers c ON o.CustomerID = c.CustomerID \r\n",
                "WHERE c.Country = 'Germany'"
            ],
            "metadata": {
                "azdata_cell_guid": "6a84913e-40dc-419e-8edb-d2493036d2e8"
            },
            "outputs": [],
            "execution_count": null
        },
        {
            "cell_type": "markdown",
            "source": [
                "## Zadanie 8\r\n",
                "\r\n",
                "_Znalezienie wszystkich zamówień dostarczonych do innego \r\n",
                "kraju niż kraj, z którego pochodził klient_"
            ],
            "metadata": {
                "azdata_cell_guid": "442f27d2-9b42-4d67-8176-40b9e33ecbfd"
            },
            "attachments": {}
        },
        {
            "cell_type": "code",
            "source": [
                "SELECT o.* \r\n",
                "FROM Orders o \r\n",
                "JOIN Customers c ON o.CustomerID = c.CustomerID \r\n",
                "WHERE c.Country != o.ShipCountry"
            ],
            "metadata": {
                "azdata_cell_guid": "7e67acb2-7e39-4789-a167-1699b346fe96",
                "tags": []
            },
            "outputs": [],
            "execution_count": null
        },
        {
            "cell_type": "markdown",
            "source": [
                "## Zadanie 9\r\n",
                "\r\n",
                "_Znalezienie wszystkich klientów, którzy nigdy nie złożyli \r\n",
                "żadnych zamówień_\r\n",
                "\r\n",
                "\r\n",
                "Czasami chcemy sprawdzić czy podzapytanie zwraca __niepusty__ wynik. Służy do tego słowo kluczowe __EXISTS__.\r\n",
                "\r\n",
                "Powyższe zadanie możemy zapisać w lekko zmienionej formie.\r\n",
                "\r\n",
                "```\r\n",
                "Dla każdego klienta sprawdź czy składał jakiekolwiek zamówienia\r\n",
                "```\r\n",
                "\r\n",
                "Zwróćmy uwagę na warunek WHERE występujący w podzapytaniu - jest on tożsamy z tym co musielibyśmy zapisać po JOIN.\r\n",
                "\r\n",
                "\r\n",
                "\r\n",
                "O EXISTS \r\n",
                "  https://docs.microsoft.com/en-us/sql/t-sql/language-elements/exists-transact-sql?view=sql-server-ver15\r\n",
                ""
            ],
            "metadata": {
                "azdata_cell_guid": "6219417b-e501-426f-9e85-1ea375cbc0ef"
            },
            "attachments": {}
        },
        {
            "cell_type": "code",
            "source": [
                "SELECT * \r\n",
                "FROM Customers c \r\n",
                "WHERE NOT EXISTS (SELECT * FROM Orders o WHERE o.CustomerID = c.CustomerID)"
            ],
            "metadata": {
                "azdata_cell_guid": "80172960-a776-4395-a641-602a47113793"
            },
            "outputs": [],
            "execution_count": null
        },
        {
            "cell_type": "markdown",
            "source": [
                "Poniższy fragment jest często nazywany jako LEFT ANTI-JOIN, ponieważ w wyniku pojawią się rekordy z tabeli lewej, które __NIE__ występują w tabeli prawej.\r\n",
                "\r\n",
                "```\r\n",
                "LEFT JOIN Orders o ON c.CustomerID = o.CustomerID\r\n",
                "WHERE o.CustomerID IS NULL;\r\n",
                "```\r\n",
                ""
            ],
            "metadata": {
                "azdata_cell_guid": "cc1fdc96-b09a-4e89-843a-b3ab7455036a"
            },
            "attachments": {}
        },
        {
            "cell_type": "code",
            "source": [
                "SELECT * \r\n",
                "FROM Customers c\r\n",
                "LEFT JOIN Orders o ON c.CustomerID = o.CustomerID\r\n",
                "WHERE o.CustomerID IS NULL;"
            ],
            "metadata": {
                "azdata_cell_guid": "21c7fb12-edc8-466b-9fec-9af31fe1fcc4"
            },
            "outputs": [],
            "execution_count": null
        },
        {
            "cell_type": "markdown",
            "source": [
                "## Zadanie 10\r\n",
                "\r\n",
                "_Znalezienie wszystkich klientów, którzy nigdy nie zamówili \r\n",
                "produktu Chocolade_"
            ],
            "metadata": {
                "azdata_cell_guid": "0d895894-670b-4ba3-984c-46aa2cdff138"
            },
            "attachments": {}
        },
        {
            "cell_type": "code",
            "source": [
                "SELECT * \r\n",
                "FROM Customers c \r\n",
                "WHERE NOT EXISTS (\r\n",
                "  SELECT *\r\n",
                "  FROM Orders o \r\n",
                "  WHERE o.CustomerID = c.CustomerID\r\n",
                "    AND EXISTS (\r\n",
                "      SELECT * \r\n",
                "      FROM [Order Details] od \r\n",
                "      JOIN Products p ON p.ProductID = od.ProductID \r\n",
                "      WHERE od.OrderID = o.OrderID AND p.ProductName = 'Chocolade'\r\n",
                "      )\r\n",
                "  )\r\n",
                ""
            ],
            "metadata": {
                "azdata_cell_guid": "addd40c2-5454-4752-9421-dc36d206e3f9"
            },
            "outputs": [],
            "execution_count": null
        },
        {
            "cell_type": "code",
            "source": [
                "SELECT * \r\n",
                "FROM Customers c \r\n",
                "WHERE NOT EXISTS (\r\n",
                "  SELECT *\r\n",
                "  FROM Orders o \r\n",
                "  WHERE o.CustomerID = c.CustomerID \r\n",
                "    AND EXISTS (\r\n",
                "      SELECT * \r\n",
                "      FROM [Order Details] od \r\n",
                "      WHERE od.OrderID = o.OrderID \r\n",
                "        AND od.ProductID = (\r\n",
                "          SELECT ProductID \r\n",
                "          FROM Products p \r\n",
                "          WHERE p.ProductName = 'Chocolade'\r\n",
                "        )\r\n",
                "      )\r\n",
                "  )\r\n",
                ""
            ],
            "metadata": {
                "azdata_cell_guid": "d651ff65-4e11-4d3c-b0cf-7719ff82a28a"
            },
            "outputs": [],
            "execution_count": null
        },
        {
            "cell_type": "code",
            "source": [
                "SELECT * \r\n",
                "FROM Customers c \r\n",
                "WHERE NOT EXISTS (\r\n",
                "  SELECT *\r\n",
                "  FROM Orders o \r\n",
                "  JOIN [Order Details] od ON od.OrderId = O.OrderID\r\n",
                "  JOIN Products p ON p.ProductID = od.ProductID \r\n",
                "  WHERE p.ProductName = 'Chocolade' AND\r\n",
                "    o.CustomerID = c.CustomerID\r\n",
                "  )"
            ],
            "metadata": {
                "azdata_cell_guid": "10adf1a7-981c-4f49-b68c-bff142177753"
            },
            "outputs": [],
            "execution_count": null
        },
        {
            "cell_type": "markdown",
            "source": [
                "## Zadanie 11\r\n",
                "\r\n",
                "_Znalezienie wszystkich klientów, którzy kiedykolwiek zamówili\r\n",
                "Scottish Longbreads_"
            ],
            "metadata": {
                "azdata_cell_guid": "34b43796-0ac6-4373-9439-78bc69e7db6b"
            },
            "attachments": {}
        },
        {
            "cell_type": "code",
            "source": [
                "SELECT * \r\n",
                "FROM Customers c \r\n",
                "WHERE EXISTS (\r\n",
                "  SELECT * \r\n",
                "  FROM Orders o \r\n",
                "  JOIN [Order Details] od ON od.OrderID = o.OrderID\r\n",
                "  JOIN Products p ON p.ProductID = od.ProductID \r\n",
                "  WHERE p.ProductName = 'ScottISh LONgbreads' AND o.CustomerID = c.CustomerID\r\n",
                "  )"
            ],
            "metadata": {
                "azdata_cell_guid": "68a2c26e-17f6-45b1-b94f-d12b8e048415"
            },
            "outputs": [],
            "execution_count": null
        },
        {
            "cell_type": "markdown",
            "source": [
                "## Zadanie 12\r\n",
                "\r\n",
                "_Znalezienie zamówień, które zawierają Scottish Longbreads, \r\n",
                "ale nie zawierają Chocolade_"
            ],
            "metadata": {
                "azdata_cell_guid": "7cfcc1bb-475f-4fa7-9122-e4128fd7301f"
            },
            "attachments": {}
        },
        {
            "cell_type": "code",
            "source": [
                "SELECT * \r\n",
                "FROM Orders o \r\n",
                "WHERE EXISTS (\r\n",
                "  SELECT * \r\n",
                "  FROM [Order Details] od \r\n",
                "  JOIN Products p ON p.ProductID = od.ProductID \r\n",
                "  WHERE ProductName = 'ScottISh LONgbreads' AND od.OrderID = o.OrderID\r\n",
                "  )\r\n",
                "AND NOT EXISTS (\r\n",
                "  SELECT * \r\n",
                "  FROM [Order Details] od \r\n",
                "  JOIN Products p ON p.ProductID = od.ProductID \r\n",
                "  WHERE ProductName = 'Chocolade' AND od.OrderID = o.OrderID\r\n",
                "  )"
            ],
            "metadata": {
                "azdata_cell_guid": "f5d7bf50-ef61-42d2-95a7-4bd855b3f746"
            },
            "outputs": [],
            "execution_count": null
        },
        {
            "cell_type": "markdown",
            "source": [
                "## Zadanie 13\r\n",
                "\r\n",
                "_Znalezienie danych wszystkich pracowników, którzy \r\n",
                "obsługiwali zamówienia klienta ALFKI_\r\n",
                "\r\n",
                "_Oczekiwany format wyniku: Imię i nazwisko pracownika_"
            ],
            "metadata": {
                "azdata_cell_guid": "0d9aa130-2f0f-4bf1-9807-1b9338049665"
            },
            "attachments": {}
        },
        {
            "cell_type": "code",
            "source": [
                "SELECT e.FirstName, e.LAStName \r\n",
                "FROM Employees e \r\n",
                "WHERE EXISTS (\r\n",
                "  SELECT * \r\n",
                "  FROM Orders o\r\n",
                "  WHERE o.CustomerID = 'ALFKI' AND e.EmployeeID = o.EmployeeID\r\n",
                ")"
            ],
            "metadata": {
                "azdata_cell_guid": "cb4419c5-9bad-4865-9471-595b1e2b401e"
            },
            "outputs": [],
            "execution_count": null
        },
        {
            "cell_type": "markdown",
            "source": [
                "## Zadanie 14\r\n",
                "\r\n",
                "Przygotowanie raportu zawierającego następujące dane: imię \r\n",
                "pracownika, nazwisko pracownika, data zamówienia, \r\n",
                "informacja, czy zamówienie zawierało Chocolate (0/1). \r\n",
                "\r\n",
                "_W raporcie należy uwzględnić każdego pracownika_\r\n",
                "\r\n",
                "\r\n",
                "\r\n",
                "Klauzula CASE WHEN umożliwia nam zwrócenie różnych wartości w zależności od wyniku warunku logicznego zapisanego po WHEN. W ogólności klazul WHEN może być wiele\r\n",
                "\r\n",
                "```\r\n",
                "CASE\r\n",
                "    WHEN bool_1 THEN val_1 \r\n",
                "    WHEN bool_2 THEN val_2\r\n",
                "    WHEN ...\r\n",
                "    ELSE val_n\r\n",
                "END AS new_column\r\n",
                "```"
            ],
            "metadata": {
                "azdata_cell_guid": "f141cf4d-5aec-4fdd-9950-71ed7a0e7dc4"
            },
            "attachments": {}
        },
        {
            "cell_type": "code",
            "source": [
                "SELECT \r\n",
                "  e.FirstName, \r\n",
                "  e.LAStName, \r\n",
                "  o.OrderDate,\r\n",
                "  (CASE WHEN od.OrderID IS NULL THEN 0 ELSE 1 END) AS 'Status' \r\n",
                "FROM Employees e\r\n",
                "LEFT JOIN Orders o ON o.EmployeeID = e.EmployeeID\r\n",
                "LEFT JOIN [Order Details] od ON o.OrderID = od.OrderID AND od.ProductID = (\r\n",
                "  SELECT ProductID \r\n",
                "  FROM Products \r\n",
                "  WHERE ProductName = 'Chocolade'\r\n",
                "  )"
            ],
            "metadata": {
                "azdata_cell_guid": "7d9d569e-1cd9-4220-8c50-2e9ebe34bb0d"
            },
            "outputs": [],
            "execution_count": null
        },
        {
            "cell_type": "markdown",
            "source": [
                "## Zadanie 15\r\n",
                "\r\n",
                "_Przygotowanie raportu zawierającego następujące dane: nazwa produktu, \r\n",
                "kraj dostawy, numer zamówienia, rok zamówienia, miesiąc zamówienia, \r\n",
                "data zamówienia posortowanego w malejącej kolejności dat zamówienia. W \r\n",
                "raporcie należy uwzględnić tylko zamówienia złożone przez klientów z \r\n",
                "Niemiec i produkty o nazwach rozpoczynających się na literę z przedziału \r\n",
                "[c-s]_\r\n",
                "\r\n",
                "\r\n",
                "__LIKE__ umożliwia sprawdzenie przynależności słowa występującego w kolumnie do języka generowanego przez podane wyrażenie regularne.\r\n",
                "\r\n",
                "Najczęściej stosowane operatory:\r\n",
                "\r\n",
                "- __%__ - dowolny ciąg znaków\r\n",
                "- __[c-s]__ - jeden znak z przedziału od c do s"
            ],
            "metadata": {
                "azdata_cell_guid": "5dd5b597-4b43-4e8b-9baf-667918cba20b"
            },
            "attachments": {}
        },
        {
            "cell_type": "code",
            "source": [
                "SELECT \r\n",
                "\tp.ProductName,\r\n",
                "\tO.ShipCountry,\r\n",
                "\tO.OrderID,\r\n",
                "\tYEAR(O.OrderDate) as year,\r\n",
                "\tMONTH(O.OrderDate) as month,\r\n",
                "\tO.OrderDate\r\n",
                "FROM Customers C\r\n",
                "join Orders O on O.CustomerID = C.CustomerID\r\n",
                "join [Order Details] od on od.OrderID = O.OrderID\r\n",
                "join ProDucts p on p.ProductID = od.ProductID\r\n",
                "where c.Country = 'Germany' and p.ProductName like '[c-s]%'\r\n",
                "order by o.OrderDate desc\r\n",
                ""
            ],
            "metadata": {
                "azdata_cell_guid": "0d453a0b-a3e3-4592-ac73-19eb4eebe1b1"
            },
            "outputs": [],
            "execution_count": null
        }
    ]
}