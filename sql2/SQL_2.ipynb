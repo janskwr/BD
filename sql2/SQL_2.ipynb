{
    "metadata": {
        "kernelspec": {
            "name": "SQL",
            "display_name": "SQL",
            "language": "sql"
        },
        "language_info": {
            "name": "sql",
            "version": ""
        }
    },
    "nbformat_minor": 2,
    "nbformat": 4,
    "cells": [
        {
            "cell_type": "markdown",
            "source": [
                "# SQL Select 2"
            ],
            "metadata": {
                "azdata_cell_guid": "6d30db38-c836-47b4-9616-450df62d527c"
            },
            "attachments": {}
        },
        {
            "cell_type": "markdown",
            "source": [
                "**Wymagania**\r\n",
                "\r\n",
                "- założona baza Northwind (skrypt dostępny na kanale lub na [GitHub](https://github.com/microsoft/sql-server-samples/tree/master/samples/databases/northwind-pubs))"
            ],
            "metadata": {
                "azdata_cell_guid": "25f361e1-516f-4ff8-8fbd-02e3e00ef1b1"
            },
            "attachments": {}
        },
        {
            "cell_type": "code",
            "source": [
                "USE Northwind;\r\n",
                "GO"
            ],
            "metadata": {
                "azdata_cell_guid": "3ee3b4ed-2500-46ed-bd16-0f5ee5c49c93"
            },
            "outputs": [],
            "execution_count": null
        },
        {
            "cell_type": "markdown",
            "source": [
                "## Zadanie 1\r\n",
                "\r\n",
                "_Ustalenie łącznej ilości każdego produktu dostarczonej \r\n",
                "do poszczególnych krajów przez pracownika nr 2. \r\n",
                "Wynik powinien zawierać następujące kolumny: \r\n",
                "ProductId, ShipCountry, TotalQuantity_"
            ],
            "metadata": {
                "azdata_cell_guid": "150d3ce2-3321-4e0c-b03d-009ae773c808"
            },
            "attachments": {}
        },
        {
            "cell_type": "code",
            "source": [
                "select \r\n",
                "  od.ProductID, \r\n",
                "  o.ShipCountry, \r\n",
                "  sum(od.Quantity) as TotalQuantity\r\n",
                "from [Order Details] od\r\n",
                "join Orders o on od.OrderID = o.OrderID \r\n",
                "where o.EmployeeID = 2\r\n",
                "group by od.ProductID, o.ShipCountry"
            ],
            "metadata": {
                "azdata_cell_guid": "9163ee65-ab09-4cc2-a72a-f6ee733bf031"
            },
            "outputs": [],
            "execution_count": null
        },
        {
            "cell_type": "markdown",
            "source": [
                "## Zadanie 2\r\n",
                "\r\n",
                "_Ustalenie listy pracowników, z których każdy sprzedał łącznie \r\n",
                "co najmniej100 sztuk produktu Chocolade w roku 1998_\r\n",
                "\r\n",
                "_Wynik powinien zawierać następujące kolumny: \r\n",
                "EmployeeName, EmployeeSurname, TotalQuantity_"
            ],
            "metadata": {
                "azdata_cell_guid": "aa28e0c8-e652-4b04-aea6-b13770374640"
            },
            "attachments": {}
        },
        {
            "cell_type": "code",
            "source": [
                "select \r\n",
                "  e.FirstName as EmployeeName, \r\n",
                "  e.LastName  as EmployeeSurname, \r\n",
                "  sum(od.Quantity) as TotalQuantity \r\n",
                "from Employees e \r\n",
                "join Orders o on e.EmployeeID = o.EmployeeID\r\n",
                "join [Order Details] od on o.OrderID = od.OrderID \r\n",
                "join Products p on od.ProductID = p.ProductID\r\n",
                "where p.ProductName = 'Chocolade' and year(o.OrderDate) = 1998\r\n",
                "group by e.EmployeeID, e.FirstName, e.LastName\r\n",
                "having sum(od.Quantity) >= 100"
            ],
            "metadata": {
                "azdata_cell_guid": "e80a995a-d63d-4731-b81c-dddddb3c25e6"
            },
            "outputs": [],
            "execution_count": null
        },
        {
            "cell_type": "markdown",
            "source": [
                "## Zadanie 3\r\n",
                "\r\n",
                "_Ustalenie listy pracowników, z których każdy sprzedał łącznie \r\n",
                "co najmniej100 sztuk produktu Chocolade w roku 1998\r\n",
                "Wynik powinien zawierać następujące kolumny: \r\n",
                "EmployeeName, EmployeeSurname, TotalQuantity_"
            ],
            "metadata": {
                "azdata_cell_guid": "7b4bc5fd-600b-45f1-8890-f3ed73a91438"
            },
            "attachments": {}
        },
        {
            "cell_type": "code",
            "source": [
                "SELECT\r\n",
                "\tProductName,\r\n",
                "\tc.*,\r\n",
                "\tOrdersCount\r\n",
                "FROM(\r\n",
                "\tselect \r\n",
                "\t\tMAX(p.ProductName) AS ProductName,\r\n",
                "\t\tc.CustomerID,\r\n",
                "\t\tcount(distinct o.OrderID) OrdersCount\r\n",
                "\tfrom Products p \r\n",
                "\tjoin [Order Details] od on od.ProductID = p.ProductID\r\n",
                "\tjoin Orders o on od.OrderID = o.OrderID \r\n",
                "\tjoin Customers c on o.CustomerID = c.CustomerID\r\n",
                "\twhere c.Country = 'Italy'\r\n",
                "\tgroup by p.productID, c.CustomerID\r\n",
                "\thaving avg(od.Quantity) >= 20\r\n",
                ") A\r\n",
                "join Customers c on c.CustomerID = A.CustomerID\r\n",
                "order by OrdersCount desc"
            ],
            "metadata": {
                "azdata_cell_guid": "eba24052-c1b2-4bc0-b42b-18d5f896268f"
            },
            "outputs": [],
            "execution_count": null
        },
        {
            "cell_type": "markdown",
            "source": [
                "## Zadanie 4\r\n",
                "\r\n",
                "_Wymień wszystkich klientów z Berlina i zamówione przez nich \r\n",
                "produkty._\r\n",
                "\r\n",
                "_Wynik zapytania powinien zawierać następujące kolumny: \r\n",
                "CustomerName, ProductName, OrderDate, Quantity._\r\n",
                "\r\n",
                "_Posortuj wynik w kolejności CustomerName, ProductName, \r\n",
                "OrderDate_"
            ],
            "metadata": {
                "azdata_cell_guid": "88c4c652-aa88-4fec-8935-69011c8c1444"
            },
            "attachments": {}
        },
        {
            "cell_type": "code",
            "source": [
                "select \r\n",
                "  c.ContactName, \r\n",
                "  p.ProductName, \r\n",
                "  o.OrderDate, \r\n",
                "  od.Quantity \r\n",
                "from Products p \r\n",
                "join [Order Details] od on p.ProductID = od.ProductID\r\n",
                "join Orders o on od.OrderID = o.OrderID \r\n",
                "join Customers c on o.CustomerID = c.CustomerID\r\n",
                "where c.City = 'Berlin'\r\n",
                "order by c.ContactName, p.ProductName, o.OrderDate"
            ],
            "metadata": {
                "azdata_cell_guid": "d65e9001-7db4-4a4c-97bf-bbc9cd5470e7"
            },
            "outputs": [],
            "execution_count": null
        },
        {
            "cell_type": "markdown",
            "source": [
                "## Zadanie 5\r\n",
                "\r\n",
                "_Wymień wszystkie produkty, które zostały dostarczone \r\n",
                "do Francji w 1998 roku_"
            ],
            "metadata": {
                "azdata_cell_guid": "ab472d56-f70c-4130-a7b4-2b4106c4cf63"
            },
            "attachments": {}
        },
        {
            "cell_type": "code",
            "source": [
                "select distinct p.ProductName \r\n",
                "from Products p \r\n",
                "join [Order Details] od on p.ProductID = od.ProductID\r\n",
                "join Orders o on od.OrderID = o.OrderID \r\n",
                "where o.ShipCountry = 'France' AND YEAR(o.ShippedDate) = 1998"
            ],
            "metadata": {
                "azdata_cell_guid": "71964295-6569-4d53-a9c1-88dbb2ea573b"
            },
            "outputs": [],
            "execution_count": null
        },
        {
            "cell_type": "markdown",
            "source": [
                "## Zadanie 6\r\n",
                "\r\n",
                "_Wymień wszystkich klientów, którzy złożyli co najmniej dwa \r\n",
                "zamówienia, ale nigdy nie zamówili produktów o nazwach \r\n",
                "zaczynających się od „Ravioli”_"
            ],
            "metadata": {
                "azdata_cell_guid": "10fc52d6-96c4-4a9f-a7d2-811445c416f8"
            },
            "attachments": {}
        },
        {
            "cell_type": "code",
            "source": [
                "select \r\n",
                "  c.ContactName \r\n",
                "from Customers c \r\n",
                "join Orders o on c.CustomerID = o.CustomerID\r\n",
                "where not exists(\r\n",
                "  select * from Orders o \r\n",
                "  join [Order Details] od on o.OrderID = od.OrderID \r\n",
                "  join Products p on od.ProductID = p.ProductID\r\n",
                "  where p.ProductName like 'Ravioli%' \r\n",
                "    and c.CustomerID = o.CustomerID\r\n",
                ")\r\n",
                "group by c.ContactName\r\n",
                "having count(*) >= 2"
            ],
            "metadata": {
                "azdata_cell_guid": "bd41ba85-8cd7-480f-add8-ea972b9830f8"
            },
            "outputs": [],
            "execution_count": null
        },
        {
            "cell_type": "markdown",
            "source": [
                "## Zadanie 7\r\n",
                "\r\n",
                "_Znajdź wszystkie zamówienia zawierające co najmniej 4 różne \r\n",
                "produkty i złożone przez klientów z Francji_\r\n",
                "\r\n",
                "_Wynik powinien zawierać następujące kolumny: \r\n",
                "CompanyName, OrderId, ProductCount_"
            ],
            "metadata": {
                "azdata_cell_guid": "358e1221-4f34-42d7-9977-3a58a424329a"
            },
            "attachments": {}
        },
        {
            "cell_type": "code",
            "source": [
                "select \r\n",
                "  max(c.CompanyName) CompanyName,\r\n",
                "  o.OrderID,\r\n",
                "  count(distinct od.productID) as ProductCount\r\n",
                "from Orders o\r\n",
                "join [Order Details] od on o.OrderID = od.OrderID\r\n",
                "join Customers c on o.CustomerID = c.CustomerID\r\n",
                "where c.Country = 'France'\r\n",
                "group by o.OrderID\r\n",
                "having count(distinct od.productID) >= 4"
            ],
            "metadata": {
                "azdata_cell_guid": "36cf49a8-1901-436c-a2bc-08233f055b1a"
            },
            "outputs": [],
            "execution_count": null
        },
        {
            "cell_type": "markdown",
            "source": [
                "## Zadanie 8\r\n",
                "\r\n",
                "_Znajdź wszystkie zamówienia zawierające co najmniej 4 różne \r\n",
                "produkty i złożone przez klientów z Francji_\r\n",
                "\r\n",
                "_Wynik powinien zawierać następujące kolumny: \r\n",
                "CompanyName, OrderId, ProductCount_"
            ],
            "metadata": {
                "azdata_cell_guid": "0fa5eba4-9e40-4fb1-9d42-1339071f3094"
            },
            "attachments": {}
        },
        {
            "cell_type": "code",
            "source": [
                "select c.CompanyName from Customers c \r\n",
                "join Orders o on c.CustomerID = o.CustomerID\r\n",
                "where o.ShipCountry = 'France' and not exists(\r\n",
                "  select *  from Customers cc \r\n",
                "  join Orders o on cc.CustomerID = o.CustomerID\r\n",
                "  where o.ShipCountry = 'Belgium' and c.CustomerID = cc.CustomerID\r\n",
                "  group by cc.CompanyName\r\n",
                "  having count(*) > 2\r\n",
                ")\r\n",
                "group by c.CompanyName\r\n",
                "having count(*) >= 5"
            ],
            "metadata": {
                "azdata_cell_guid": "05e5b5f7-1618-4104-adeb-4bd29f916e94"
            },
            "outputs": [],
            "execution_count": null
        },
        {
            "cell_type": "code",
            "source": [
                "select CompanyName\r\n",
                "from (\r\n",
                "  select CompanyName,\r\n",
                "    case when (ShipCountry = 'France' and OrdersCount >= 5) then 0 else 1 end as sh_fr,\r\n",
                "    case when (ShipCountry = 'Belgium' and OrdersCount > 2) then 1 else 0 end as sh_bg\r\n",
                "  from (\r\n",
                "    select CompanyName, ShipCountry, count(*) as OrdersCount\r\n",
                "    from Customers c \r\n",
                "    join Orders o on c.CustomerID = o.CustomerID\r\n",
                "    and ShipCountry in ('France', 'Belgium')\r\n",
                "    group by CompanyName, ShipCountry\r\n",
                "  ) ordrs\r\n",
                ") ordrs_reslt\r\n",
                "group by CompanyName\r\n",
                "having sum(sh_fr + sh_bg) = 0;"
            ],
            "metadata": {
                "azdata_cell_guid": "c2ab4fff-75b1-416c-be2f-fc22dba3aacc"
            },
            "outputs": [],
            "execution_count": null
        },
        {
            "cell_type": "code",
            "source": [
                "SELECT CompanyName\r\n",
                "FROM Customers c\r\n",
                "WHERE\r\n",
                "    (SELECT COUNT(*)\r\n",
                "    FROM Orders o\r\n",
                "    WHERE o.CustomerID=c.CustomerID AND o.ShipCountry='France')>= 5\r\n",
                "    AND\r\n",
                "    (SELECT COUNT(*)\r\n",
                "    FROM Orders o\r\n",
                "    WHERE o.CustomerID=c.CustomerID AND o.ShipCountry = 'Belgium')<=2"
            ],
            "metadata": {
                "azdata_cell_guid": "190f8fcf-a807-42e7-9342-7539b27d707a"
            },
            "outputs": [],
            "execution_count": null
        },
        {
            "cell_type": "markdown",
            "source": [
                "## Zadanie 9\r\n",
                "\r\n",
                "_Dla każdego produktu znajdź wszystkich klientów, którzy \r\n",
                "złożyli zamówienie na największą kiedykolwiek zamówioną \r\n",
                "ilość tego produktu._\r\n",
                "\r\n",
                "_Wynik: ProductName, CompanyName, MaxQuantity_"
            ],
            "metadata": {
                "azdata_cell_guid": "93ed3ec5-311d-4d14-8228-fcbeb024532c"
            },
            "attachments": {}
        },
        {
            "cell_type": "code",
            "source": [
                "select distinct \r\n",
                "  p.ProductName, \r\n",
                "  c.CompanyName, \r\n",
                "  od.Quantity as MaxQuantity\r\n",
                "from Orders o \r\n",
                "join [Order Details] od on o.OrderID = od.OrderID\r\n",
                "join Products p on p.ProductID = od.productID\r\n",
                "join Customers c on o.CustomerID = c.CustomerID\r\n",
                "where od.Quantity = (\r\n",
                "  select max(od2.Quantity) from [Order Details] od2\r\n",
                "  where od2.ProductID = od.ProductID\r\n",
                ")"
            ],
            "metadata": {
                "azdata_cell_guid": "320052a8-9640-493f-b770-7460aba13c8e"
            },
            "outputs": [],
            "execution_count": null
        },
        {
            "cell_type": "markdown",
            "source": [
                "## Zadanie 10\r\n",
                "\r\n",
                "_Wymień wszystkich pracowników, którzy nadzorowali liczbę \r\n",
                "zamówień większą niż 120% średniej liczby zamówień \r\n",
                "nadzorowanych przez pracownika_"
            ],
            "metadata": {
                "azdata_cell_guid": "2d6e5b77-2856-4eab-ab43-bcc726885ae3"
            },
            "attachments": {}
        },
        {
            "cell_type": "code",
            "source": [
                "select \r\n",
                "\te.EmployeeID, \r\n",
                "\tmax(e.FirstName) FirstName, \r\n",
                "\tmax(e.LastName) LastName \r\n",
                "from Employees e \r\n",
                "join Orders o on e.EmployeeID = o.EmployeeID\r\n",
                "group by e.EmployeeID\r\n",
                "having count(*) > 1.2 *(\r\n",
                "\tselect avg(tmp.Count) from(\r\n",
                "\t\tselect count(*) as 'Count' \r\n",
                "\t\tfrom Employees e \r\n",
                "\t\tjoin Orders o on e.EmployeeID = o.EmployeeID\r\n",
                "\t\tgroup by e.EmployeeID\r\n",
                "\t) tmp\r\n",
                ")"
            ],
            "metadata": {
                "azdata_cell_guid": "87627914-7db0-4626-affc-1d2a853f829c"
            },
            "outputs": [],
            "execution_count": null
        },
        {
            "cell_type": "code",
            "source": [
                "with emp_ordrs as (\r\n",
                "  select \r\n",
                "\te.EmployeeID, \r\n",
                "\tmax(e.FirstName) FirstName, \r\n",
                "\tmax(e.LastName) LastName, \r\n",
                "\tcount(*) as ordr_cnt\r\n",
                "  from Employees e \r\n",
                "  join Orders o on e.EmployeeID = o.EmployeeID\r\n",
                "  group by e.EmployeeID\r\n",
                ")\r\n",
                "select EmployeeID, FirstName, LastName\r\n",
                "from emp_ordrs\r\n",
                "where ordr_cnt > (select 1.2 * avg(ordr_cnt) from emp_ordrs);"
            ],
            "metadata": {
                "azdata_cell_guid": "930f27d5-d25b-43bc-b6b2-cd425f2b4f6d"
            },
            "outputs": [],
            "execution_count": null
        },
        {
            "cell_type": "markdown",
            "source": [
                "## Zadanie 11\r\n",
                "\r\n",
                "_Wyświetl dane 5 zamówień zawierających największą liczbę \r\n",
                "różnych produktów umieszczonych na jednym zamówieniu._\r\n",
                "\r\n",
                "_Wynik powinien zawierać: OrderId, ProductCount_"
            ],
            "metadata": {
                "azdata_cell_guid": "16ecadb6-3de6-4c3e-83d5-830ef5d52993"
            },
            "attachments": {}
        },
        {
            "cell_type": "code",
            "source": [
                "SELECT TOP 5 WITH TIES\r\n",
                "    OD.OrderID, \r\n",
                "    COUNT(DISTINCT OD.ProductID) AS ProductCount\r\n",
                "FROM [Order Details] AS OD\r\n",
                "GROUP BY OD.OrderID\r\n",
                "ORDER BY ProductCount DESC"
            ],
            "metadata": {
                "azdata_cell_guid": "1f0d5711-fc66-4e2c-8a0a-2710c3ac102e"
            },
            "outputs": [],
            "execution_count": null
        },
        {
            "cell_type": "markdown",
            "source": [
                "## Zadanie 12\r\n",
                "\r\n",
                "_Znajdź wszystkie produkty, na które złożono więcej zamówień \r\n",
                "w 1997 r. niż w 1996 r._\r\n",
                "\r\n",
                "_Wynik powinien zawierać kolumny: ProductName, \r\n",
                "NumberOfOrdersIn1996, NumberOfOrdersIn1997_"
            ],
            "metadata": {
                "azdata_cell_guid": "9f9702f5-58c4-454f-8549-25e2a77a8821"
            },
            "attachments": {}
        },
        {
            "cell_type": "code",
            "source": [
                "select\r\n",
                "\tp.ProductName,\r\n",
                "\tISNULL(cnt_1996, 0) as TotalQuantityIn1996,\r\n",
                "\tcnt_1997 as TotalQuantityIn1997\r\n",
                "from Products p\r\n",
                "left join (\r\n",
                "\tselect \r\n",
                "\t\tod.ProductID,\r\n",
                "\t\tsum(od.Quantity) as cnt_1996\r\n",
                "\tfrom [Order Details] od\r\n",
                "\tjoin Orders o on od.OrderID = o.OrderID\r\n",
                "\twhere o.OrderDate  >= '1996-01-01' AND o.OrderDate < '1997-01-01'\r\n",
                "\tgroup by od.ProductID\r\n",
                ") Y1996 on p.ProductID = Y1996.ProductID\r\n",
                "join (\r\n",
                "\tselect \r\n",
                "\t\tod2.ProductID,\r\n",
                "\t\tsum(od2.Quantity) as cnt_1997\r\n",
                "\tfrom [Order Details] od2\r\n",
                "\tjoin Orders o2 on od2.OrderID = o2.OrderID\r\n",
                "\twhere year(o2.OrderDate) = 1997\r\n",
                "\tgroup by od2.ProductID\r\n",
                ") Y1997 on p.ProductID = Y1997.ProductID\r\n",
                "where cnt_1997 > ISNULL(cnt_1996, 0)"
            ],
            "metadata": {
                "azdata_cell_guid": "881e0e65-8e28-480a-ace6-e9c9b7a58145"
            },
            "outputs": [],
            "execution_count": null
        },
        {
            "cell_type": "code",
            "source": [
                "select\r\n",
                "\tp.ProductName,\r\n",
                "\tcnt_1996 as TotalQuantityIn1996,\r\n",
                "\tcnt_1997 as TotalQuantityIn1997\r\n",
                "from Products P\r\n",
                "join (\r\n",
                "\tselect \r\n",
                "\t\tod.ProductID, \r\n",
                "\t\tsum(case when (year(OrderDate) = 1996) then Quantity else 0 end) cnt_1996,\r\n",
                "\t\tsum(case when (year(OrderDate) = 1997) then Quantity else 0 end) cnt_1997\r\n",
                "\tfrom [Order Details] od\r\n",
                "\tjoin Orders o on od.OrderID = o.OrderID\r\n",
                "\tgroup by od.ProductID\r\n",
                ") A on A.ProductID = P.ProductID\r\n",
                "where A.cnt_1997 > A.cnt_1996"
            ],
            "metadata": {
                "azdata_cell_guid": "38c47a64-fdcf-48bc-a9e7-96febbdfbb8d"
            },
            "outputs": [],
            "execution_count": null
        },
        {
            "cell_type": "code",
            "source": [
                "select\r\n",
                "\tp.ProductName,\r\n",
                "\tcnt_1996 as TotalQuantityIn1996,\r\n",
                "\tcnt_1997 as TotalQuantityIn1997\r\n",
                "from Products P\r\n",
                "join (\r\n",
                "\tselect \r\n",
                "\t\tod.ProductID, \r\n",
                "\t\tsum(case when (OrderDate >= '1996-01-01' AND OrderDate < '1997-01-01') then Quantity else 0 end) cnt_1996,\r\n",
                "\t\tsum(case when (OrderDate >= '1997-01-01' AND OrderDate < '1998-01-01') then Quantity else 0 end) cnt_1997\r\n",
                "\tfrom [Order Details] od\r\n",
                "\tjoin Orders o on od.OrderID = o.OrderID\r\n",
                "\twhere o.OrderDate >= '1996-01-01' AND o.OrderDate < '1998-01-01'\r\n",
                "\tgroup by od.ProductID\r\n",
                ") A on A.ProductID = P.ProductID\r\n",
                "where A.cnt_1997 > A.cnt_1996"
            ],
            "metadata": {
                "azdata_cell_guid": "7bffa4a3-bd9a-4710-87c4-ecf148605933"
            },
            "outputs": [],
            "execution_count": null
        },
        {
            "cell_type": "markdown",
            "source": [
                "## Zadanie 13\r\n",
                "\r\n",
                "_Znajdź wszystkie produkty, na które złożono więcej zamówień \r\n",
                "w 1997 r. niż w 1996 r._\r\n",
                "\r\n",
                "_Wynik powinien zawierać kolumny: ProductName, \r\n",
                "NumberOfOrdersIn1996, NumberOfOrdersIn1997_"
            ],
            "metadata": {
                "azdata_cell_guid": "b196a7aa-2077-4c66-a0ec-53b784debd18"
            },
            "attachments": {}
        },
        {
            "cell_type": "code",
            "source": [
                "select\r\n",
                "\tp.ProductName,\r\n",
                "\tcnt_1996 as NumberOfOrdersIn1996,\r\n",
                "\tcnt_1997 as NumberOfOrdersIn1997\r\n",
                "from Products P\r\n",
                "join (\r\n",
                "\tselect \r\n",
                "\t\tod.ProductID, \r\n",
                "\t\tsum(case when (year(OrderDate) = 1996) then 1 else 0 end) cnt_1996,\r\n",
                "\t\tsum(case when (year(OrderDate) = 1997) then 1 else 0 end) cnt_1997\r\n",
                "\tfrom [Order Details] od\r\n",
                "\tjoin Orders o on od.OrderID = o.OrderID\r\n",
                "\tgroup by od.ProductID\r\n",
                ") A on A.ProductID = P.ProductID\r\n",
                "where A.cnt_1997 > A.cnt_1996"
            ],
            "metadata": {
                "azdata_cell_guid": "f888c709-3412-424e-a241-ff1b3ea63ea1"
            },
            "outputs": [],
            "execution_count": null
        },
        {
            "cell_type": "markdown",
            "source": [
                "## Zadanie 14\r\n",
                "\r\n",
                "_Utwórz widok z sumaryczną ilością zamówionych produktów. Widok powinien \r\n",
                "zawierać: OrderYear, OrderMonth, OrderId,  CustomerID, CompanyName, \r\n",
                "CustomerCountry, CustomerCity, ShipCountry, ShipCity, ProductID, ProductName,  \r\n",
                "CategoryName,  UnitPrice, Quantity, ProductValue – sumaryczną wartość \r\n",
                "zamówionego produktu (Quantity*UnitPrice)_"
            ],
            "metadata": {
                "azdata_cell_guid": "5e0bfd9a-3842-4e2e-afca-56a642db7059"
            },
            "attachments": {}
        },
        {
            "cell_type": "code",
            "source": [
                "GO\r\n",
                "CREATE VIEW OrdersTotal as(\r\n",
                "\tselect \r\n",
                "\t\tYEAR(O.OrderDate) as OrderYear,\r\n",
                "\t\tDATEPART(MONTH, O.OrderDate) as OrderMonth,\r\n",
                "\t\tO.OrderID,\r\n",
                "\t\tO.CustomerID,\r\n",
                "\t\tCS.CompanyName,\r\n",
                "\t\tCS.Country as CustomerCountry,\r\n",
                "\t\tCS.City as CustomerCity,\r\n",
                "\t\tO.ShipCountry,\r\n",
                "\t\tO.ShipCity,\r\n",
                "\t\tOD.ProductID,\r\n",
                "\t\tP.ProductName,\r\n",
                "\t\tCT.CategoryName,\r\n",
                "\t\tOD.UnitPrice,\r\n",
                "\t\tOD.Quantity,\r\n",
                "\t\tOD.UnitPrice * OD.Quantity as ProductValue\r\n",
                "\tfrom Orders O\r\n",
                "\tjoin Customers CS on O.CustomerID = CS.CustomerID\r\n",
                "\tjoin [Order Details] OD on OD.OrderID = O.OrderID\r\n",
                "\tjoin Products P on P.ProductID = OD.ProductID\r\n",
                "\tjoin Categories CT on CT.CategoryID = P.CategoryID\r\n",
                ");\r\n",
                "GO"
            ],
            "metadata": {
                "azdata_cell_guid": "527449da-b61f-479b-b5da-1e8670c185f4"
            },
            "outputs": [],
            "execution_count": null
        },
        {
            "cell_type": "markdown",
            "source": [
                "## Zadanie 15\r\n",
                "\r\n",
                "_Przygotowanie raportu zawierającego nr zamówienia, nazwę \r\n",
                "produktu, nazwę kategorii produktu, wartość zamówionego \r\n",
                "produktu w tym zamówieniu, łączną wartość zamówień na ten \r\n",
                "produkt, łączną wartość zamówień na produkty tej kategorii_"
            ],
            "metadata": {
                "azdata_cell_guid": "76bbf904-771e-4e52-bdc1-3f99ca603a9f"
            },
            "attachments": {}
        },
        {
            "cell_type": "code",
            "source": [
                "SELECT \r\n",
                "\tOrderID,\r\n",
                "\tProductName,\r\n",
                "\tCategoryName,\r\n",
                "\tProductValue,\r\n",
                "\tSUM(ProductValue) OVER (PARTITION BY ProductName) as ProdTotalSale,\r\n",
                "\tSUM(ProductValue) OVER (PARTITION BY CategoryName) as CategoryTotalSale\r\n",
                "FROM OrdersTotal\r\n",
                "order by ProductName"
            ],
            "metadata": {
                "azdata_cell_guid": "49a9f731-1fac-476d-b1f4-8323b0a7ce47"
            },
            "outputs": [],
            "execution_count": null
        },
        {
            "cell_type": "markdown",
            "source": [
                "## Zadanie 16\r\n",
                "\r\n",
                "_Przygotowanie raportu zawierającego nr zamówienia, nazwę \r\n",
                "produktu, nazwę kategorii produktu, wartość zamówionego \r\n",
                "produktu w tym zamówieniu, łączną wartość zamówień na ten \r\n",
                "produkt, łączną wartość zamówień na produkty tej kategorii_"
            ],
            "metadata": {
                "azdata_cell_guid": "449577bd-7001-4228-968a-4614bad6504d"
            },
            "attachments": {}
        },
        {
            "cell_type": "code",
            "source": [
                "select distinct \r\n",
                "\tProductName,\r\n",
                "\tCategoryName,\r\n",
                "\tSUM(ProductValue) OVER (PARTITION BY ProductName) as ProdTotalSale,\r\n",
                "\tSUM(ProductValue) OVER (PARTITION BY CategoryName) as CategoryTotalSale,\r\n",
                "\tSUM(ProductValue) OVER () as TotalSale\r\n",
                "from OrdersTotal\r\n",
                "order by ProductName"
            ],
            "metadata": {
                "azdata_cell_guid": "9534e43e-6543-4e26-9bc8-247fc7cd6570"
            },
            "outputs": [],
            "execution_count": null
        },
        {
            "cell_type": "markdown",
            "source": [
                "## Zadanie 17\r\n",
                "\r\n",
                "_Przygotowanie raportu zawierającego numer zamówienia, \r\n",
                "numer produktu, wartość tej linijki zamówienia \r\n",
                "(ProductValue), narastająco wartość ProductValue od \r\n",
                "początku zestawienia_"
            ],
            "metadata": {
                "azdata_cell_guid": "3732a945-cdda-4aca-9016-dd3f6fbde0db"
            },
            "attachments": {}
        },
        {
            "cell_type": "code",
            "source": [
                "select \r\n",
                "\tOrderID,\r\n",
                "\tProductID,\r\n",
                "\tProductValue,\r\n",
                "\tSUM(ProductValue) OVER (ORDER BY OrderId, ProductId ROWS BETWEEN UNBOUNDED PRECEDING AND CURRENT ROW) as ProdTotalSale\r\n",
                "from OrdersTotal\r\n",
                "order by OrderID"
            ],
            "metadata": {
                "azdata_cell_guid": "4e8f9bcf-8271-4ea8-ab69-bdde0ed61d66"
            },
            "outputs": [],
            "execution_count": null
        },
        {
            "cell_type": "markdown",
            "source": [
                "## Zadanie 18\r\n",
                "\r\n",
                "_Przygotowanie raportu zawierającego numer zamówienia, \r\n",
                "numer produktu, wartość tej linijki zamówienia \r\n",
                "(ProductValue), sumę wartości ProductValue w dwóch \r\n",
                "poprzedzających i bieżącym wierszu_"
            ],
            "metadata": {
                "azdata_cell_guid": "a47ecc2e-8c3d-4d01-9cae-9d8e8736df35"
            },
            "attachments": {}
        },
        {
            "cell_type": "code",
            "source": [
                "select \r\n",
                "\tOrderID,\r\n",
                "\tProductID,\r\n",
                "\tProductValue,\r\n",
                "\tSUM(ProductValue) OVER (ORDER BY OrderId, ProductId ROWS BETWEEN 2 PRECEDING AND CURRENT ROW) as ProdTotalSale\r\n",
                "from OrdersTotal \r\n",
                "order by OrderID, ProductID"
            ],
            "metadata": {
                "azdata_cell_guid": "906658f4-1dbe-4d01-b6b2-98eb224d31a0"
            },
            "outputs": [],
            "execution_count": null
        },
        {
            "cell_type": "markdown",
            "source": [
                "## Zadanie 19\r\n",
                "\r\n",
                "_Przygotowanie raportu zawierającego numer zamówienia, \r\n",
                "numer produktu, wartość tej linijki zamówienia \r\n",
                "(ProductValue), sumę wartości ProductValue w dwóch \r\n",
                "poprzedzających i bieżącym wierszu_"
            ],
            "metadata": {
                "azdata_cell_guid": "812a5933-e02e-4c55-9614-4b7b97ad81ed"
            },
            "attachments": {}
        },
        {
            "cell_type": "code",
            "source": [
                "select \r\n",
                "\tProductName, \r\n",
                "\tOrderYear, \r\n",
                "\tOrderMonth,\r\n",
                "\tSUM(OrderTotal) OVER (PARTITION BY ProductName,OrderYear,OrderMonth) AS ProductMonthSale,\r\n",
                "\tSUM(OrderTotal) OVER (PARTITION BY ProductName,OrderYear ORDER BY OrderMonth) as ProdUntilMonthSale,\r\n",
                "\tcount(*) OVER (PARTITION BY ProductName,OrderYear ORDER BY OrderMonth) as MonthCount\r\n",
                "from (\r\n",
                "\tselect \r\n",
                "\t\tsum(ProductValue) as OrderTotal, \r\n",
                "\t\tProductName, \r\n",
                "\t\tOrderYear, \r\n",
                "\t\tOrderMonth\r\n",
                "\tfrom OrdersTotal\r\n",
                "\tgroup by ProductName, OrderYear, OrderMonth\r\n",
                ") as OrdersGrouped\r\n",
                "order by ProductName,OrderYear,OrderMonth"
            ],
            "metadata": {
                "azdata_cell_guid": "ee113436-a7ad-42b2-83a1-60471ca37ec7"
            },
            "outputs": [],
            "execution_count": null
        },
        {
            "cell_type": "markdown",
            "source": [
                "## Ostatnie zamówienie każdego klienta"
            ],
            "metadata": {
                "azdata_cell_guid": "3afb61ad-8448-4af8-acba-adff399e55cd"
            },
            "attachments": {}
        },
        {
            "cell_type": "code",
            "source": [
                "SELECT A.CustomerID, A.OrderID, A.OrderDate\r\n",
                "FROM (\r\n",
                "    SELECT\r\n",
                "    O.OrderID,\r\n",
                "    O.CustomerID,\r\n",
                "    O.OrderDate,\r\n",
                "    RANK() OVER (PARTITION BY O.CustomerID ORDER BY O.OrderDate) AS o_rank\r\n",
                "FROM Orders O \r\n",
                ") A\r\n",
                "WHERE A.o_rank = 1"
            ],
            "metadata": {
                "azdata_cell_guid": "597dbc0c-f57e-4216-8e16-e7591d7aa2f8"
            },
            "outputs": [],
            "execution_count": null
        }
    ]
}