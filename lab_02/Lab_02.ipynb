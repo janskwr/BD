{
    "metadata": {
        "kernelspec": {
            "name": "SQL",
            "display_name": "SQL",
            "language": "sql"
        },
        "language_info": {
            "name": "sql",
            "version": ""
        }
    },
    "nbformat_minor": 2,
    "nbformat": 4,
    "cells": [
        {
            "cell_type": "markdown",
            "source": [
                "# LAB 02 - Projektowanie baz danych\r\n",
                "\r\n",
                "## Tworzenie nowej bazy danych"
            ],
            "metadata": {
                "azdata_cell_guid": "8988e814-87ea-4d1a-b2dc-99f4a89049ae"
            },
            "attachments": {}
        },
        {
            "cell_type": "markdown",
            "source": [
                "Na początku musimy stworzyć nową bazę danych. Służy do tego polecenie **CREATE DATABASE < nazwa bazy >**. Dla naszej wygody przed stworzeniem bazy usuniemy dotychczasową bazę występującą pod taką samą nazwą jeżeli istnieje."
            ],
            "metadata": {
                "azdata_cell_guid": "43db5093-7034-48e4-8b5b-5e0875acf8eb"
            }
        },
        {
            "cell_type": "code",
            "source": [
                "USE master;\r\n",
                "GO"
            ],
            "metadata": {
                "azdata_cell_guid": "bdbecfb8-c7b4-416b-985d-1bb66e361f56",
                "tags": [
                    "hide_input"
                ]
            },
            "outputs": [],
            "execution_count": null
        },
        {
            "cell_type": "code",
            "source": [
                "if exists(select * from sysdatabases where name='Intro')\r\n",
                "\tdrop database Intro\r\n",
                "GO"
            ],
            "metadata": {
                "azdata_cell_guid": "18f9bacf-278e-4559-abae-f69ada943f40",
                "tags": []
            },
            "outputs": [],
            "execution_count": null
        },
        {
            "cell_type": "code",
            "source": [
                "CREATE DATABASE Intro;\r\n",
                "GO"
            ],
            "metadata": {
                "azdata_cell_guid": "96d5516d-2c35-46d4-bddf-810451fca61a"
            },
            "outputs": [],
            "execution_count": null
        },
        {
            "cell_type": "markdown",
            "source": [
                "Pamiętajcie o tym, żeby po utworzeniu bazy się na nią przełączyć, bo inaczej wszystkie tabele stworzą się w bazie _master._"
            ],
            "metadata": {
                "azdata_cell_guid": "cf5884d2-e481-41b2-8800-a9f948827621"
            },
            "attachments": {}
        },
        {
            "cell_type": "code",
            "source": [
                "USE Intro;\r\n",
                "GO"
            ],
            "metadata": {
                "azdata_cell_guid": "570ae0f6-3141-4b22-af26-bd1a924cef31"
            },
            "outputs": [],
            "execution_count": null
        },
        {
            "cell_type": "markdown",
            "source": [
                "## Definiowanie tabel\r\n",
                "\r\n",
                "Kolejnym krokiem jest zdefiniowanie tabel występujących w rozwiązaniu. Tabele powinny odpowiadać obiektom występującym w świecie rzeczywistym (np. kraj, samolot). Poszczególne cechy obiektów powinny zostać zapisane w postaci kolumn w tabeli.\r\n",
                "\r\n",
                "Do tworzenia nowej tabeli wykorzystujemy polecenie **CREATE TABLE < nazwa tabel > (< lista kolumn >)**. Nazwa tabeli musi być unikalna w obrębie jednej bazy danych. Kolumny podajemy kolejno po przecinku podając nazwę kolumny, jej typ oraz informacje czy dopuszczamy brak wartości ( NULL / NOT NULL).\r\n",
                "\r\n",
                "Na poniższym przykładzie mamy dwie tabele **Countries** oraz **Planes**. Obie tabele mają sztuczne **klucz główne** **id** typu **INT**. Mimo, że często możliwe jest stworznie klucza naturalnego (np. nazwa państwa może być kluczem głównym, bo jest unikalna i niepusta) to często tworzy się klucze sztuczne w celu poprawienia wydajności. Klucz sztuczny jest najczęściej typu **INT**, który zajmuje zdecydowanie mniej miejsca niż np **VARCHAR(50)**\r\n",
                "\r\n",
                "Relacje pomiędzy tabelami realizujemy poprzez dodanie do tabeli **kluczy obcych**. W naszym przykładzie takim kluczem obcym jest kolumna *origin_id* w tabeli Planes. Do stworzenia relacji służy słowo kluczowe **REFERENCES < nazwa tabeli obcje >(< klucz główny w tabeli obcej >)**, które dodajemy w definicji kolumny. Typy obu kolumn powinny być jednakowe."
            ],
            "metadata": {
                "azdata_cell_guid": "5a0b738c-e989-41f2-9e29-99eb2276048f"
            }
        },
        {
            "cell_type": "code",
            "source": [
                "CREATE TABLE Countries(\r\n",
                "    id      INT     NOT NULL PRIMARY KEY,\r\n",
                "    name    VARCHAR(30) NOT NULL,\r\n",
                ")\r\n",
                "\r\n",
                "CREATE TABLE Planes (\r\n",
                "    id      INT     NOT NULL PRIMARY KEY,\r\n",
                "    name    VARCHAR(30) NOT NULL,\r\n",
                "    origin_id  INT NOT NULL REFERENCES Countries(id)\r\n",
                ")\r\n",
                "GO"
            ],
            "metadata": {
                "azdata_cell_guid": "1b6e9114-d0c1-4e85-ab54-63dc7dfc7aac",
                "tags": []
            },
            "outputs": [],
            "execution_count": null
        },
        {
            "cell_type": "markdown",
            "source": [
                "W przypadku kluczy złożonych klucz główny należy zdefiniować oddzielnie."
            ],
            "metadata": {
                "azdata_cell_guid": "a26b08cb-130b-484d-a83b-3a2465d97b00"
            },
            "attachments": {}
        },
        {
            "cell_type": "code",
            "source": [
                "CREATE TABLE test(\r\n",
                "    name VARCHAR NOT NULL,\r\n",
                "    surname VARCHAR NOT NULL,\r\n",
                "    PRIMARY KEY(name, surname)\r\n",
                ")"
            ],
            "metadata": {
                "azdata_cell_guid": "ccd693ac-9082-4629-9782-e6f9e499fcfb",
                "tags": []
            },
            "outputs": [],
            "execution_count": null
        },
        {
            "cell_type": "markdown",
            "source": [
                "W przypadku relacji wiele-do-wielu będziemy potrzebowali dodatkowej tabeli przechowujące pary kluczy głównych z łączonych tabel."
            ],
            "metadata": {
                "azdata_cell_guid": "2df8bc97-bc96-4e37-98dd-318bf513313e"
            },
            "attachments": {}
        },
        {
            "cell_type": "code",
            "source": [
                "CREATE TABLE A(\r\n",
                "    id      INT     NOT NULL PRIMARY KEY,\r\n",
                "    name    VARCHAR(30) NOT NULL,\r\n",
                ")\r\n",
                "\r\n",
                "CREATE TABLE B(\r\n",
                "    id      INT     NOT NULL PRIMARY KEY,\r\n",
                "    name    VARCHAR(30) NOT NULL,\r\n",
                ")\r\n",
                "\r\n",
                "CREATE TABLE A_B(\r\n",
                "    A_id INT NOT NULL REFERENCES A(id),\r\n",
                "    B_id INT NOT NULL REFERENCES B(id)\r\n",
                ")\r\n",
                "GO"
            ],
            "metadata": {
                "azdata_cell_guid": "b1cbe70c-2565-40fd-87fc-c1c1933642e3"
            },
            "outputs": [],
            "execution_count": null
        },
        {
            "cell_type": "markdown",
            "source": [
                "## Example1\n",
                "\n",
                "### Opis problemu\n",
                "\n",
                "Celem zadania jest przygotowanie projektu tabel. Projekt powinien definiować tabele, kolumny (w tym typy danych, długość i wymagalność), klucze główne i klucze obce dla opisanego poniżej problemu. Dla każdego klucza obcego należy zdefiniować tabelę i kolumnę/kolumny w tej tabeli, do której klucz obcy się odnosi. Opis problemu:\n",
                "\n",
                "1. Należy stworzyć bazę danych dla międzynarodowej firmy produkcyjnej o cechach opisanych w poniższych punktach\n",
                "2. Firma produkuje dużą liczbę produktów montowanych w różnych krajach\n",
                "3. Każdy produkt jest montowany w jednym kraju, z części pochodzących potencjalnie z różnych krajów\n",
                "4. Dla każdej części obowiązuje oddzielna cena i okres produkcji\n",
                "5. Części, które nie są już produkowane, mają określoną datę zakończenia produkcji\n",
                "6. W każdym dziale firmy jest wielu menedżerów sprzedaży.\n",
                "7. Są oni przypisani do grup produktów, za które są odpowiedzialni.\n",
                "8. Dla każdego produktu jest tylko jeden menedżer produktu. Każdy menedżer działa tylko w jednym dziale.\n",
                "9. Istnieje unikalny numer statystyczny dla każdej części nadawany przez każdy kraj oddzielnie.\n",
                "10. Nie ma ograniczeń co do wielkości opisu części. Niektóre opisy mogą być wielostronicowe.\n",
                "11. Każdy produkt ma globalnie unikalny kod."
            ],
            "metadata": {
                "azdata_cell_guid": "ebc2c093-b63a-4d44-a2db-d2e2f8275c3e"
            },
            "attachments": {}
        },
        {
            "cell_type": "markdown",
            "source": [
                "### Rozwiązanie\n",
                "\n",
                "Poniższe rozwiązanie przygotował: **Wilczyński Piotr**\n",
                "\n",
                "  \n",
                "\n",
                "Kilka uwag od prowadzącego\n",
                "\n",
                "  \n",
                "\n",
                "1\\. Można rozważyć wyodrębnienie działu pracownika do osobnej tabeli.\n",
                "\n",
                "2\\. W zależności od interpretacji encji \\*Parts\\* możliwe jest także stworzenie relacji wiele-do-wielu pomiędzy \\*Parts\\* oraz \\*Products\\*"
            ],
            "metadata": {
                "azdata_cell_guid": "2c023209-ce56-4331-ac1d-54a8c9749e04"
            },
            "attachments": {}
        },
        {
            "cell_type": "code",
            "source": [
                "USE master\r\n",
                "GO\r\n",
                "\r\n",
                "if exists(select * from sysdatabases where name='Example1')\r\n",
                "\tdrop database Example1\r\n",
                "GO\r\n",
                "\r\n",
                "CREATE DATABASE Example1\r\n",
                "GO\r\n",
                "\r\n",
                "USE Example1\r\n",
                "GO"
            ],
            "metadata": {
                "azdata_cell_guid": "5f12207b-09cc-48d4-9829-b167f110d5e3",
                "tags": []
            },
            "outputs": [],
            "execution_count": null
        },
        {
            "cell_type": "code",
            "source": [
                "CREATE TABLE Countries(\r\n",
                "    id          INT             NOT NULL PRIMARY KEY,\r\n",
                "    name        VARCHAR(20)     NOT NULL\r\n",
                ")\r\n",
                "\r\n",
                "CREATE TABLE Managers(\r\n",
                "    id          INT             NOT NULL PRIMARY KEY,\r\n",
                "    departament VARCHAR(50)     NOT NULL\r\n",
                ")\r\n",
                "\r\n",
                "CREATE TABLE Product_gropus(\r\n",
                "    id          INT             NOT NULL PRIMARY KEY,\r\n",
                "    name        VARCHAR(5)      NOT NULL,\r\n",
                "    manager_id  INT             NOT NULL REFERENCES Managers(id)\r\n",
                ")\r\n",
                "\r\n",
                "CREATE TABLE Products(\r\n",
                "    product_code INT            NOT NULL PRIMARY KEY,\r\n",
                "    installation_country_id INT NOT NULL REFERENCES Countries(id),\r\n",
                "    products_group INT          NOT NULL REFERENCES Product_gropus(id)\r\n",
                ")\r\n",
                "\r\n",
                "CREATE TABLE Parts(\r\n",
                "    statistical_code INT        NOT NULL,\r\n",
                "    origin_country_id INT       NOT NULL REFERENCES Countries(id),\r\n",
                "    product_code INT            NOT NULL REFERENCES Products(product_code),\r\n",
                "    price       FLOAT           NOT NULL,\r\n",
                "    start_of_production DATETIME NOT NULL,\r\n",
                "    end_of_production   DATETIME,\r\n",
                "    description  TEXT           NOT NULL,\r\n",
                "    PRIMARY KEY(statistical_code, origin_country_id)\r\n",
                ")\r\n",
                ""
            ],
            "metadata": {
                "azdata_cell_guid": "e4f2eb08-85d9-4b80-96ef-b576f3b9327e",
                "tags": []
            },
            "outputs": [],
            "execution_count": null
        },
        {
            "cell_type": "markdown",
            "source": [
                "## Dodatek\n",
                "\n",
                "Większość informacji dostępnych przez GUI SQL Managment Studio jest dostępna także z poziomu poleceń SQL."
            ],
            "metadata": {
                "azdata_cell_guid": "2adf6b6d-b59b-4254-b1d5-5b2c0a3fb068"
            },
            "attachments": {}
        },
        {
            "cell_type": "code",
            "source": [
                "USE Northwind;"
            ],
            "metadata": {
                "azdata_cell_guid": "f542f897-e3af-446d-ac61-418c7d6b3cf3"
            },
            "outputs": [],
            "execution_count": null
        },
        {
            "cell_type": "markdown",
            "source": [
                "### Lista kolumn z tabeli"
            ],
            "metadata": {
                "azdata_cell_guid": "db4ee1a0-b67b-41a9-a126-87cd5e8c11dc"
            }
        },
        {
            "cell_type": "code",
            "source": [
                "EXEC sp_columns Orders;"
            ],
            "metadata": {
                "azdata_cell_guid": "80f6431d-ea4e-4589-968c-80c86e616c15"
            },
            "outputs": [],
            "execution_count": null
        },
        {
            "cell_type": "markdown",
            "source": [
                "### Dodatkowe informacje o tabeli"
            ],
            "metadata": {
                "azdata_cell_guid": "37ae6638-1107-49fd-a471-9f25af872a3a"
            }
        },
        {
            "cell_type": "code",
            "source": [
                "EXEC sp_help Orders;"
            ],
            "metadata": {
                "azdata_cell_guid": "9aef45f8-06bd-4751-b608-66989a5b5f7b"
            },
            "outputs": [],
            "execution_count": null
        },
        {
            "cell_type": "markdown",
            "source": [
                "### Lista tabel"
            ],
            "metadata": {
                "azdata_cell_guid": "17891f2a-af57-49e9-b30e-6abb19f814c0"
            },
            "attachments": {}
        },
        {
            "cell_type": "code",
            "source": [
                "EXEC sp_tables @table_type = \"'TABLE'\";"
            ],
            "metadata": {
                "azdata_cell_guid": "5fc50f32-abb3-4b36-a82f-6f63271d5fbf"
            },
            "outputs": [],
            "execution_count": null
        }
    ]
}